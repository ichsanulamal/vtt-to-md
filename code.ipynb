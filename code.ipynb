{
 "cells": [
  {
   "cell_type": "markdown",
   "metadata": {},
   "source": [
    "# read file"
   ]
  },
  {
   "cell_type": "markdown",
   "metadata": {},
   "source": [
    "# trans"
   ]
  },
  {
   "cell_type": "code",
   "execution_count": 1,
   "metadata": {},
   "outputs": [],
   "source": [
    "import webvtt"
   ]
  },
  {
   "cell_type": "code",
   "execution_count": 2,
   "metadata": {},
   "outputs": [],
   "source": [
    "def to_txt(vtt_name):\n",
    "    vtt = webvtt.read(vtt_name)\n",
    "    transcript = \"\"\n",
    "\n",
    "    lines = []\n",
    "    for line in vtt:\n",
    "        lines.extend(line.text.strip().splitlines())\n",
    "\n",
    "    previous = None\n",
    "    for line in lines:\n",
    "        if line == previous:\n",
    "            continue\n",
    "        transcript += \" \" + line\n",
    "        previous = line\n",
    "\n",
    "    return transcript"
   ]
  },
  {
   "cell_type": "code",
   "execution_count": 3,
   "metadata": {},
   "outputs": [],
   "source": [
    "def to_html(txt):\n",
    "    text_html = \"\"\n",
    "    for lines in txt.split(\"\\n\"):\n",
    "        text_html += \"<div>\" + lines + \"</div><br>\"\n",
    "\n",
    "    return text_html"
   ]
  },
  {
   "cell_type": "code",
   "execution_count": 4,
   "metadata": {},
   "outputs": [],
   "source": [
    "from snakemd import Document\n",
    "doc = Document(\"Output\")"
   ]
  },
  {
   "cell_type": "code",
   "execution_count": 5,
   "metadata": {},
   "outputs": [],
   "source": [
    "def list_files(dir):    \n",
    "    prev_category = \"\"\n",
    "    r = []\n",
    "    for root, dirs, files in os.walk(dir):\n",
    "        global doc\n",
    "        for name in files:\n",
    "            file_name = os.path.join(root, name)\n",
    "            if file_name.split(\".\")[-1] == \"vtt\":\n",
    "                cat = file_name.split(\"\\\\\")[-2]\n",
    "                if prev_category != cat:\n",
    "                    prev_category = cat\n",
    "\n",
    "                    doc.add_paragraph(\"<hr>\")\n",
    "\n",
    "                    \n",
    "                    doc.add_header(cat, level=1)\n",
    "\n",
    "                title = file_name.split(\"\\\\\")[-1].replace(\".vtt\", \"\").split(\"-\")[0]\n",
    "                doc.add_header(title, level=2)\n",
    "\n",
    "                txt = to_txt(file_name)\n",
    "                doc.add_paragraph(txt)  "
   ]
  },
  {
   "cell_type": "code",
   "execution_count": 6,
   "metadata": {},
   "outputs": [],
   "source": [
    "INPUT_FILE_NAME = \"D:\\\\D\\\\Pagawean\\\\video\\\\Cloud\\\\Coursera - Google IT Support Professional Certificate\"\n",
    "# INPUT_FILE_NAME = \"D:\\\\D\\\\Pagawean\\\\video\\\\Cloud\\\\Coursera - Google IT Support Professional Certificate\"\n",
    "list_files(INPUT_FILE_NAME) "
   ]
  },
  {
   "cell_type": "code",
   "execution_count": 8,
   "metadata": {},
   "outputs": [],
   "source": [
    "OUTPUT_FILE_NAME = \"coursera.md\"\n",
    "with open(OUTPUT_FILE_NAME, \"w\", encoding=\"utf-8\") as f:\n",
    "    f.write(str(doc))"
   ]
  }
 ],
 "metadata": {
  "kernelspec": {
   "display_name": "Python 3.8.8 ('base')",
   "language": "python",
   "name": "python3"
  },
  "language_info": {
   "codemirror_mode": {
    "name": "ipython",
    "version": 3
   },
   "file_extension": ".py",
   "mimetype": "text/x-python",
   "name": "python",
   "nbconvert_exporter": "python",
   "pygments_lexer": "ipython3",
   "version": "3.8.8"
  },
  "orig_nbformat": 4,
  "vscode": {
   "interpreter": {
    "hash": "ad2bdc8ecc057115af97d19610ffacc2b4e99fae6737bb82f5d7fb13d2f2c186"
   }
  }
 },
 "nbformat": 4,
 "nbformat_minor": 2
}
